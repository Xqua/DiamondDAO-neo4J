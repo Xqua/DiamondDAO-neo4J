{
 "cells": [
  {
   "cell_type": "code",
   "execution_count": 5,
   "id": "4b953fb5-e7d9-49b5-8473-d8e264bc539a",
   "metadata": {},
   "outputs": [],
   "source": [
    "import networkx as nx\n",
    "import json"
   ]
  },
  {
   "cell_type": "code",
   "execution_count": 7,
   "id": "f82fc076-d726-426b-9e7c-19e862cdd9d8",
   "metadata": {},
   "outputs": [],
   "source": [
    "with open('./DB_schema.json') as f:\n",
    "    schema = json.load(f)"
   ]
  },
  {
   "cell_type": "code",
   "execution_count": 24,
   "id": "05754fdb-4f44-4850-a130-c6cacdba9cfe",
   "metadata": {},
   "outputs": [],
   "source": [
    "G = nx.DiGraph()\n",
    "\n",
    "for node in schema[0]['nodes']:\n",
    "    G.add_node(node['identity'], label=node['properties']['name'], count=node['properties']['count'])\n",
    "\n",
    "for edge in schema[0]['relationships']:\n",
    "    if G.has_edge(edge['start'], edge['end']):\n",
    "        G.edges[edge['start'],edge['end']]['label'] += '\\n' + edge['type']\n",
    "    else:\n",
    "        G.add_edge(edge['start'], edge['end'], id=edge['identity'], label=edge['type'], count=edge['properties']['count'])"
   ]
  },
  {
   "cell_type": "code",
   "execution_count": 25,
   "id": "ef80815f-32bc-411f-ad90-62433f090a16",
   "metadata": {},
   "outputs": [],
   "source": [
    "nx.write_graphml(G, 'DB_schema.graphml')"
   ]
  },
  {
   "cell_type": "code",
   "execution_count": 23,
   "id": "9f1fe198-53ee-4ec2-87ea-98bccc42d0a8",
   "metadata": {},
   "outputs": [
    {
     "data": {
      "text/plain": [
       "{'id': -159, 'label': 'isMemberOf', 'count': 29623}"
      ]
     },
     "execution_count": 23,
     "metadata": {},
     "output_type": "execute_result"
    }
   ],
   "source": []
  }
 ],
 "metadata": {
  "kernelspec": {
   "display_name": "datascience",
   "language": "python",
   "name": "datascience"
  },
  "language_info": {
   "codemirror_mode": {
    "name": "ipython",
    "version": 3
   },
   "file_extension": ".py",
   "mimetype": "text/x-python",
   "name": "python",
   "nbconvert_exporter": "python",
   "pygments_lexer": "ipython3",
   "version": "3.8.10"
  }
 },
 "nbformat": 4,
 "nbformat_minor": 5
}

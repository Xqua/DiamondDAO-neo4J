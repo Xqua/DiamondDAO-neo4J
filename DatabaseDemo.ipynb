{
 "cells": [
  {
   "cell_type": "code",
   "execution_count": 1,
   "id": "7263b8b4-f15f-4c86-a830-6a5903e880eb",
   "metadata": {},
   "outputs": [],
   "source": [
    "from neo4j import GraphDatabase"
   ]
  },
  {
   "cell_type": "markdown",
   "id": "3528abd1-1884-4ffe-b3fe-a2d88192616a",
   "metadata": {},
   "source": [
    "# Creating DiamondDAO data for demo\n",
    "Here I will first show what normally the chainverse interface would do, aka link the DAO and its users to the different types of elements."
   ]
  },
  {
   "cell_type": "code",
   "execution_count": 2,
   "id": "91822b2c-0697-4ea0-8cb0-cdbe62aad35f",
   "metadata": {},
   "outputs": [],
   "source": [
    "database_uri = \"bolt://localhost:7687\"\n",
    "username = \"neo4j\"\n",
    "password = \"diamondDAO\""
   ]
  },
  {
   "cell_type": "code",
   "execution_count": 3,
   "id": "cfd34c73-2530-4057-b710-913d761c5966",
   "metadata": {},
   "outputs": [],
   "source": [
    "class DatabaseConnector:\n",
    "    \"This class defines the connector, and helper functions to interact with the chose schema\"\n",
    "    \n",
    "    def __init__(self, uri, user, password):\n",
    "        self.driver = GraphDatabase.driver(uri, auth=(user, password))\n",
    "\n",
    "    def close(self):\n",
    "        self.driver.close()\n",
    "        \n",
    "    def run_query(self, query, props=None):\n",
    "        try:\n",
    "            with self.driver.session() as session:\n",
    "                result = list(session.run(query, props=props))\n",
    "            return result\n",
    "        except:\n",
    "            print(query)\n",
    "            print(props)\n",
    "            raise"
   ]
  },
  {
   "cell_type": "code",
   "execution_count": 4,
   "id": "0967b63d-35e1-4a5b-9bf0-e3ce0258a66d",
   "metadata": {},
   "outputs": [],
   "source": [
    "connector = DatabaseConnector(database_uri, username, password)"
   ]
  },
  {
   "cell_type": "code",
   "execution_count": 5,
   "id": "64d7cde2-3e25-4e9d-971f-ea92324c456d",
   "metadata": {},
   "outputs": [],
   "source": [
    "# Let's create the DAO\n",
    "def create_dao(connector, data):\n",
    "    query = \"\"\"\n",
    "        MERGE (diamond:DAO {{id: {}, name: \"{}\", website:\"{}\", twitter:\"{}\"}})\n",
    "        \"\"\".format(data[\"id\"], data[\"name\"], data[\"website\"], data[\"twitter\"])\n",
    "    connector.run_query(query)\n",
    "    \n",
    "diamondDAO = {\"id\":1, \"name\": \"DiamondDAO\", \"website\":\"https://www.diamonddao.xyz/\", \"twitter\":\"https://twitter.com/dmnddao\"}\n",
    "GitcoinDAO = {\"id\":2, \"name\": \"Gitcoin\", \"website\":\"https://gitcoin.co/\", \"twitter\":\"https://twitter.com/gitcoin\"}\n",
    "\n",
    "create_dao(connector, diamondDAO)\n",
    "create_dao(connector, GitcoinDAO)"
   ]
  },
  {
   "cell_type": "code",
   "execution_count": 6,
   "id": "3059ee7d-1b5a-4ed7-a4b6-2b73bacd4c86",
   "metadata": {},
   "outputs": [],
   "source": [
    "# First matching the different services the DAO runs on\n",
    "def connect_discourse(connector, dao_id, discourse_name, discourse_id):\n",
    "    query = \"\"\"\n",
    "        MATCH (dao:DAO {{id: {}}}), (discourse:DiscourseCategory {{discourseName: \"{}\", id: {}}})\n",
    "        MERGE (discourse) -[edge:isPartOf]-> (dao)\n",
    "        \"\"\".format(dao_id, discourse_name, discourse_id)\n",
    "    connector.run_query(query)\n",
    "\n",
    "def connect_DAOHaus(connector, dao_id, daohaus_id):\n",
    "    query = \"\"\"\n",
    "        MATCH (dao:DAO {{id: {}}}), (daohaus:DAOHausDao {{id:{}}})\n",
    "        MERGE (daohaus) -[edge:isPartOf]-> (dao)\n",
    "    \"\"\".format(dao_id, daohaus_id)\n",
    "    connector.run_query(query)\n",
    "    \n",
    "def connect_Snapshot(connector, dao_id, snapshot_id):\n",
    "    query = \"\"\"\n",
    "        MATCH (dao:DAO {{id: {}}}), (snapshot:SnapshotSpace {{id:\"{}\"}})\n",
    "        MERGE (snapshot) -[edge:isPartOf]-> (dao)\n",
    "    \"\"\".format(dao_id, snapshot_id)\n",
    "    connector.run_query(query)"
   ]
  },
  {
   "cell_type": "code",
   "execution_count": 7,
   "id": "19eb8086-4185-4071-87ae-3245d2250296",
   "metadata": {},
   "outputs": [],
   "source": [
    "connect_discourse(connector, 1, \"DAOHausDiscourse\", 106)\n",
    "connect_DAOHaus(connector, 1, 792)\n",
    "connect_DAOHaus(connector, 1, 122)\n",
    "connect_Snapshot(connector, 2, \"gitcoindao.eth\")"
   ]
  },
  {
   "cell_type": "code",
   "execution_count": 8,
   "id": "7e719887-5066-441f-b14a-a8e6706c7abc",
   "metadata": {},
   "outputs": [],
   "source": [
    "# Then matching the members\n",
    "def create_user(connector, user):\n",
    "    query = \"\"\"\n",
    "        MERGE (user:User {{id: {}, name:\"{}\", twitter:\"{}\"}})\n",
    "    \"\"\".format(user[\"id\"], user[\"name\"], user[\"twitter\"])\n",
    "    connector.run_query(query)\n",
    "\n",
    "def connect_discourse_user(connector, user_id, discourse_username):\n",
    "    query = \"\"\"\n",
    "        MATCH (user:User {{id: {}}}), (discourseUser:DiscourseUser {{username: \"{}\"}})\n",
    "        MERGE (user) -[edge:isUser]-> (discourseUser)\n",
    "    \"\"\".format(user_id, discourse_username)\n",
    "    connector.run_query(query)\n",
    "\n",
    "def connect_wallet(connector, user_id, address):\n",
    "    query = \"\"\"\n",
    "        MATCH (user:User {{id: {}}}), (wallet:Wallet {{address: \"{}\"}})\n",
    "        MERGE (user) -[edge:isWallet]-> (wallet)\n",
    "    \"\"\".format(user_id, address)\n",
    "    connector.run_query(query)"
   ]
  },
  {
   "cell_type": "code",
   "execution_count": 9,
   "id": "74fc9a03-7d08-4f0d-9780-1bb903617ed0",
   "metadata": {},
   "outputs": [],
   "source": [
    "data = {\n",
    "    \"Xqua\": {\"name\": \"XquaInTheMoon\", \"discourseUsername\": \"Xqua\", \"address\": \"0xF0552F71fDdd72ae6d0F59EfE3fCcFFc39aF21FF\".lower(), \"twitter\": \"@XquaInTheMoon\"},\n",
    "    \"Jovian\": {\"name\": \"Jovian\", \"discourseUsername\": \"steffbrowne\", \"address\": \"0x3a8af31d3cfe775172853528167bb2b5760bf7b9\", \"twitter\": \"@Jovian\"},\n",
    "    \"Amphiboly\": {\"name\": \"Amphiboly\", \"discourseUsername\": \"amphiboly.eth\", \"address\": \"0xc75446a6adaef73269dbdece73536977b2b639e0\", \"twitter\": \"@amphiboly\"},\n",
    "    \"Lemp\": {\"name\": \"Lemp\", \"discourseUsername\": \"lemp.eth\", \"address\": \"0x97b9958facec9acb7adb2bb72a70172cb5a0ea7c\", \"twitter\": \"@lemp\"},\n",
    "    \"Keating\": {\"name\": \"Keating\", \"address\": \"0xb8b8bcb1c9e15a9a2325c90b0803e6d225598245\", \"twitter\": \"@keating\"},\n",
    "    \"FeralChain\": {\"name\": \"FeralChain\", \"address\": \"0x6a55ae1b0bbbc7edbf346360ddc99b9224205f03\", \"twitter\": \"@feralchain\"}\n",
    "}"
   ]
  },
  {
   "cell_type": "code",
   "execution_count": 10,
   "id": "20b548e9-4574-46b3-9142-169527525471",
   "metadata": {},
   "outputs": [],
   "source": [
    "id_i = 1\n",
    "for user in data:\n",
    "    create_user(connector, {\"id\": id_i, \"name\": data[user][\"name\"], \"twitter\": data[user][\"twitter\"]})\n",
    "    if \"address\" in data[user]:\n",
    "        connect_wallet(connector, id_i, data[user][\"address\"])\n",
    "    if \"discourseUsername\" in data[user]:\n",
    "        connect_discourse_user(connector, id_i, data[user][\"discourseUsername\"])\n",
    "    id_i += 1"
   ]
  },
  {
   "cell_type": "code",
   "execution_count": null,
   "id": "015e1769-036f-488e-a485-c013d5aa1f23",
   "metadata": {},
   "outputs": [],
   "source": []
  },
  {
   "cell_type": "markdown",
   "id": "8a414cfa-d82a-4632-a233-518346d0c609",
   "metadata": {},
   "source": [
    "# Let's make a few query examples\n",
    "Here's a few example queries. First I will look for the DAO users, and how many are voting, and the share distribution"
   ]
  },
  {
   "cell_type": "code",
   "execution_count": 11,
   "id": "7157f8f2-e0c2-4265-8318-f5bad6f25f70",
   "metadata": {},
   "outputs": [
    {
     "name": "stdout",
     "output_type": "stream",
     "text": [
      "The DAO has 30 members accross all DAOHaus instances\n"
     ]
    }
   ],
   "source": [
    "#Let's grab the number of members of the DAO\n",
    "query = \"\"\"\n",
    "MATCH (dao:DAO {id:1})<-[isPartOf]-(daohaus:DAOHausDao)<-[isMemberOf]-(members:Wallet)\n",
    "RETURN count(DISTINCT members)\"\"\"\n",
    "result = connector.run_query(query)\n",
    "print(\"The DAO has {} members accross all DAOHaus instances\".format(result[0].value()))"
   ]
  },
  {
   "cell_type": "code",
   "execution_count": null,
   "id": "d3e1fa38-e5cc-4307-a86f-8c6e1639d00c",
   "metadata": {},
   "outputs": [],
   "source": []
  },
  {
   "cell_type": "code",
   "execution_count": 12,
   "id": "4026fb08-33f5-43d9-b86b-015a9eab9ad0",
   "metadata": {},
   "outputs": [],
   "source": [
    "query = \"MATCH (users:User) RETURN users\"\n",
    "result = connector.run_query(query)"
   ]
  },
  {
   "cell_type": "code",
   "execution_count": 13,
   "id": "936be261-4dea-402b-a212-3bed577f9915",
   "metadata": {},
   "outputs": [
    {
     "data": {
      "text/plain": [
       "[<Record users=<Node id=629130 labels=frozenset({'User'}) properties={'twitter': '@XquaInTheMoon', 'name': 'XquaInTheMoon', 'id': 1}>>,\n",
       " <Record users=<Node id=629131 labels=frozenset({'User'}) properties={'twitter': '@Jovian', 'name': 'Jovian', 'id': 2}>>,\n",
       " <Record users=<Node id=629132 labels=frozenset({'User'}) properties={'twitter': '@amphiboly', 'name': 'Amphiboly', 'id': 3}>>,\n",
       " <Record users=<Node id=629133 labels=frozenset({'User'}) properties={'twitter': '@lemp', 'name': 'Lemp', 'id': 4}>>,\n",
       " <Record users=<Node id=629134 labels=frozenset({'User'}) properties={'twitter': '@keating', 'name': 'Keating', 'id': 5}>>,\n",
       " <Record users=<Node id=629135 labels=frozenset({'User'}) properties={'twitter': '@feralchain', 'name': 'FeralChain', 'id': 6}>>]"
      ]
     },
     "execution_count": 13,
     "metadata": {},
     "output_type": "execute_result"
    }
   ],
   "source": [
    "result"
   ]
  },
  {
   "cell_type": "markdown",
   "id": "e68eebfd-ac59-4ae6-899b-173602b00df0",
   "metadata": {},
   "source": [
    "# Let's get the COvoter network on the DimaondDAO"
   ]
  },
  {
   "cell_type": "code",
   "execution_count": 46,
   "id": "97a8fee8-46f4-4b72-9828-82cd043b6bf4",
   "metadata": {},
   "outputs": [],
   "source": [
    "query = \"\"\"\n",
    "MATCH (:DAOHausDao {id:792})<-[:isPartOf]-(proposals:DAOHausProposal)\n",
    "MATCH (p1:Wallet)-[:hasVotedOn]->(proposals)<-[:hasVotedOn]-(p2:Wallet)\n",
    "RETURN p1 AS source, p2 AS target, 'COVOTES' as type, count(*) AS weight\n",
    "\"\"\"\n",
    "\n",
    "results = connector.run_query(query)"
   ]
  },
  {
   "cell_type": "code",
   "execution_count": 47,
   "id": "e4290870-1194-4690-a8ec-6daa10ed29e9",
   "metadata": {},
   "outputs": [
    {
     "data": {
      "text/plain": [
       "<Record source=<Node id=616729 labels=frozenset({'Wallet'}) properties={'address': '0xc75446a6adaef73269dbdece73536977b2b639e0'}> target=<Node id=502251 labels=frozenset({'Wallet'}) properties={'address': '0xe04885c3f1419c6e8495c33bdcf5f8387cd88846'}> type='COVOTES' weight=11>"
      ]
     },
     "execution_count": 47,
     "metadata": {},
     "output_type": "execute_result"
    }
   ],
   "source": [
    "# Let's look at a record\n",
    "results[0]"
   ]
  },
  {
   "cell_type": "code",
   "execution_count": 5,
   "id": "3f4abc61-21fc-4138-84f1-641948bfeb68",
   "metadata": {},
   "outputs": [],
   "source": [
    "import networkx as nx"
   ]
  },
  {
   "cell_type": "code",
   "execution_count": 49,
   "id": "19dacf12-d207-4b9c-b3b7-f41af4119796",
   "metadata": {},
   "outputs": [],
   "source": [
    "G = nx.Graph()\n",
    "for result in results:\n",
    "    source = result['source']\n",
    "    target = result['target']\n",
    "    weight = result['weight']\n",
    "    G.add_node(source.id, label=source['address'][:6])\n",
    "    G.add_node(target.id, label=target['address'][:6])\n",
    "    G.add_edge(source.id, target.id, weight=weight)"
   ]
  },
  {
   "cell_type": "code",
   "execution_count": 50,
   "id": "f1c57a40-ed7b-45df-99cf-8c21dfb17fe0",
   "metadata": {},
   "outputs": [],
   "source": [
    "nx.write_graphml(G, 'example_voter_graph.graphml')"
   ]
  },
  {
   "cell_type": "markdown",
   "id": "ec4594f3-d544-4e22-8b07-d358e14953c2",
   "metadata": {},
   "source": [
    "# Let's get the DiamondDAO Discourse user network"
   ]
  },
  {
   "cell_type": "code",
   "execution_count": 55,
   "id": "2b1d8c26-aae5-42c9-b8b4-5173a7b2dc91",
   "metadata": {},
   "outputs": [],
   "source": [
    "query = \"\"\"\n",
    "MATCH (:DAO {id:1})-[:isPartOf]-(:DiscourseCategory)-[:isPartOf]-(topics:DiscourseTopic)\n",
    "MATCH (u1:DiscourseUser)-[:isAuthorOf|hasLiked]->(:DiscoursePost)-[:isPartOf]->(topics)<-[:isPartOf]-(:DiscoursePost)<-[:isAuthorOf|hasLiked]-(u2:DiscourseUser)\n",
    "RETURN u1 AS source, u2 AS target, 'COPARTICIPATE' as type, count(*) AS weight\n",
    "\"\"\"\n",
    "\n",
    "results = connector.run_query(query)"
   ]
  },
  {
   "cell_type": "code",
   "execution_count": 56,
   "id": "72612d97-0a16-4479-903e-a180221966ba",
   "metadata": {},
   "outputs": [],
   "source": [
    "G = nx.Graph()\n",
    "for result in results:\n",
    "    source = result['source']\n",
    "    target = result['target']\n",
    "    weight = result['weight']\n",
    "    G.add_node(source.id, label=source['username'])\n",
    "    G.add_node(target.id, label=target['username'])\n",
    "    G.add_edge(source.id, target.id, weight=weight)\n",
    "nx.write_graphml(G, 'example_DiscourseUser_graph.graphml')"
   ]
  },
  {
   "cell_type": "markdown",
   "id": "13e54120-894b-4369-943c-fbe1210a7bf5",
   "metadata": {},
   "source": [
    "# Writing a Graph in memory for algorithms\n",
    "We first write a graph, the co-vote graph on DAOHaus, then we use the similarity coeficient to get a score of similarity, and then we order them. \n",
    "This gives us a Graph of similar voters"
   ]
  },
  {
   "cell_type": "code",
   "execution_count": 63,
   "id": "9d5fe476-f2c4-4ae4-826e-0be9999a9fb1",
   "metadata": {},
   "outputs": [],
   "source": [
    "query = \"\"\"\n",
    "CALL gds.graph.create.cypher(\n",
    "    'covotes-graph',\n",
    "    'MATCH (n:Wallet) RETURN id(n) AS id, labels(n) as labels',\n",
    "    'MATCH (p1:Wallet)-[:hasVotedOn]->(a:DAOHausProposal)<-[:hasVotedOn]-(p2:Wallet)\n",
    "     RETURN id(p1) AS source, id(p2) AS target, count(a) AS weight'\n",
    ")\n",
    "\"\"\"\n",
    "\n",
    "result = connector.run_query(query)"
   ]
  },
  {
   "cell_type": "code",
   "execution_count": 65,
   "id": "a823f989-3949-41a9-9cda-0a4f47d30e09",
   "metadata": {},
   "outputs": [
    {
     "data": {
      "text/plain": [
       "[<Record nodeCount=627349 relationshipCount=46822 bytesMin=190792712 bytesMax=205849088 requiredMemory='[181 MiB ... 196 MiB]'>]"
      ]
     },
     "execution_count": 65,
     "metadata": {},
     "output_type": "execute_result"
    }
   ],
   "source": [
    "query = \"\"\"\n",
    "CALL gds.nodeSimilarity.write.estimate('covotes-graph', {\n",
    "  writeRelationshipType: 'SIMILAR',\n",
    "  writeProperty: 'score'\n",
    "})\n",
    "YIELD nodeCount, relationshipCount, bytesMin, bytesMax, requiredMemory\n",
    "\"\"\"\n",
    "\n",
    "result = connector.run_query(query)\n",
    "result"
   ]
  },
  {
   "cell_type": "code",
   "execution_count": 6,
   "id": "b2f26288-3df6-49a7-a079-78fa75d4d2ee",
   "metadata": {},
   "outputs": [],
   "source": [
    "query = \"\"\"\n",
    "CALL gds.nodeSimilarity.stream('covotes-graph')\n",
    "YIELD node1, node2, similarity\n",
    "RETURN gds.util.asNode(node1).address AS Person1, gds.util.asNode(node2).address AS Person2, similarity\n",
    "ORDER BY similarity DESCENDING, Person1, Person2\n",
    "\"\"\"\n",
    "\n",
    "results = connector.run_query(query)"
   ]
  },
  {
   "cell_type": "code",
   "execution_count": 8,
   "id": "2aecbc96-13c0-4d75-afd5-3f520c4d153e",
   "metadata": {},
   "outputs": [],
   "source": [
    "G = nx.Graph()\n",
    "for result in results:\n",
    "    G.add_edge(result['Person1'], result['Person2'], weight=result['similarity'])"
   ]
  },
  {
   "cell_type": "code",
   "execution_count": 12,
   "id": "2c64279f-0268-4bc3-aa73-a4c98e2d2a43",
   "metadata": {},
   "outputs": [],
   "source": [
    "import community as community_louvain"
   ]
  },
  {
   "cell_type": "code",
   "execution_count": 13,
   "id": "0e938221-cb1f-4eb1-ac1a-a5a1a4bd3244",
   "metadata": {},
   "outputs": [],
   "source": [
    "partition = community_louvain.best_partition(G)"
   ]
  },
  {
   "cell_type": "code",
   "execution_count": 14,
   "id": "24219384-2aef-4d1e-8f21-2eb217c44f75",
   "metadata": {},
   "outputs": [],
   "source": [
    "for node in G.nodes():\n",
    "    G.nodes[node]['community'] = partition[node]"
   ]
  },
  {
   "cell_type": "code",
   "execution_count": 15,
   "id": "946689f5-0d28-48e8-bd3f-3ef162941233",
   "metadata": {},
   "outputs": [],
   "source": [
    "nx.write_graphml(G, 'voter_similarity_daohaus.graphml')"
   ]
  },
  {
   "cell_type": "code",
   "execution_count": 82,
   "id": "ceb92c15-67b7-49a5-ad59-3401112f99ac",
   "metadata": {},
   "outputs": [],
   "source": [
    "G = nx.Graph()\n",
    "for result in results:\n",
    "    if result['similarity'] > 0.8:\n",
    "        G.add_edge(result['Person1'], result['Person2'], weight=result['similarity'])"
   ]
  },
  {
   "cell_type": "code",
   "execution_count": 83,
   "id": "0f5a99e1-a47f-4aef-8eda-ad360c58dc35",
   "metadata": {},
   "outputs": [],
   "source": [
    "nx.write_graphml(G, 'voter_similarity_daohaus.thresh-0.8.graphml')"
   ]
  }
 ],
 "metadata": {
  "kernelspec": {
   "display_name": "diamond",
   "language": "python",
   "name": "diamond"
  },
  "language_info": {
   "codemirror_mode": {
    "name": "ipython",
    "version": 3
   },
   "file_extension": ".py",
   "mimetype": "text/x-python",
   "name": "python",
   "nbconvert_exporter": "python",
   "pygments_lexer": "ipython3",
   "version": "3.8.12"
  }
 },
 "nbformat": 4,
 "nbformat_minor": 5
}

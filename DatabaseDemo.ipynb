{
 "cells": [
  {
   "cell_type": "code",
   "execution_count": 37,
   "id": "7263b8b4-f15f-4c86-a830-6a5903e880eb",
   "metadata": {},
   "outputs": [],
   "source": [
    "from neo4j import GraphDatabase"
   ]
  },
  {
   "cell_type": "markdown",
   "id": "3528abd1-1884-4ffe-b3fe-a2d88192616a",
   "metadata": {},
   "source": [
    "# Creating DiamondDAO data for demo\n",
    "Here I will first show what normally the chainverse interface would do, aka link the DAO and its users to the different types of elements."
   ]
  },
  {
   "cell_type": "code",
   "execution_count": 38,
   "id": "91822b2c-0697-4ea0-8cb0-cdbe62aad35f",
   "metadata": {},
   "outputs": [],
   "source": [
    "database_uri = \"bolt://localhost:7687\"\n",
    "username = \"neo4j\"\n",
    "password = \"diamondDAO\""
   ]
  },
  {
   "cell_type": "code",
   "execution_count": 70,
   "id": "cfd34c73-2530-4057-b710-913d761c5966",
   "metadata": {},
   "outputs": [],
   "source": [
    "class DatabaseConnector:\n",
    "    \"This class defines the connector, and helper functions to interact with the chose schema\"\n",
    "    \n",
    "    def __init__(self, uri, user, password):\n",
    "        self.driver = GraphDatabase.driver(uri, auth=(user, password))\n",
    "\n",
    "    def close(self):\n",
    "        self.driver.close()\n",
    "        \n",
    "    def run_query(self, query, props=None):\n",
    "        try:\n",
    "            with self.driver.session() as session:\n",
    "                result = list(session.run(query, props=props))\n",
    "            return result\n",
    "        except:\n",
    "            print(query)\n",
    "            print(props)\n",
    "            raise"
   ]
  },
  {
   "cell_type": "code",
   "execution_count": 71,
   "id": "0967b63d-35e1-4a5b-9bf0-e3ce0258a66d",
   "metadata": {},
   "outputs": [],
   "source": [
    "connector = DatabaseConnector(database_uri, username, password)"
   ]
  },
  {
   "cell_type": "code",
   "execution_count": 7,
   "id": "64d7cde2-3e25-4e9d-971f-ea92324c456d",
   "metadata": {},
   "outputs": [],
   "source": [
    "# Let's create the DAO\n",
    "def create_dao(connector, data):\n",
    "    query = \"\"\"\n",
    "        MERGE (diamond:DAO {{id: {}, name: \"{}\", website:\"{}\", twitter:\"{}\"}})\n",
    "        \"\"\".format(data[\"id\"], data[\"name\"], data[\"website\"], data[\"twitter\"])\n",
    "    connector.run_query(query)\n",
    "    \n",
    "diamondDAO = {\"id\":1, \"name\": \"DiamondDAO\", \"website\":\"https://www.diamonddao.xyz/\", \"twitter\":\"https://mobile.twitter.com/dmnddao\"}\n",
    "create_dao(connector, diamondDAO)"
   ]
  },
  {
   "cell_type": "code",
   "execution_count": 8,
   "id": "3059ee7d-1b5a-4ed7-a4b6-2b73bacd4c86",
   "metadata": {},
   "outputs": [],
   "source": [
    "# First matching the different services the DAO runs on\n",
    "def connect_discourse(connector, dao_id, discourse_name, discourse_id):\n",
    "    query = \"\"\"\n",
    "        MATCH (dao:DAO {{id: {}}}), (discourse:DiscourseCategory {{discourseName: \"{}\", id: {}}})\n",
    "        MERGE (discourse) -[edge:isPartOf]-> (dao)\n",
    "        \"\"\".format(dao_id, discourse_name, discourse_id)\n",
    "    connector.run_query(query)\n",
    "\n",
    "def connect_DAOHaus(connector, dao_id, daohaus_id):\n",
    "    query = \"\"\"\n",
    "        MATCH (dao:DAO {{id: {}}}), (daohaus:DAOHausDao {{id:{}}})\n",
    "        MERGE (daohaus) -[edge:isPartOf]-> (dao)\n",
    "    \"\"\".format(dao_id, daohaus_id)\n",
    "    connector.run_query(query)"
   ]
  },
  {
   "cell_type": "code",
   "execution_count": 9,
   "id": "19eb8086-4185-4071-87ae-3245d2250296",
   "metadata": {},
   "outputs": [],
   "source": [
    "connect_discourse(connector, 1, \"DAOHausDiscourse\", 106)\n",
    "connect_DAOHaus(connector, 1, 792)\n",
    "connect_DAOHaus(connector, 1, 122)"
   ]
  },
  {
   "cell_type": "code",
   "execution_count": 10,
   "id": "7e719887-5066-441f-b14a-a8e6706c7abc",
   "metadata": {},
   "outputs": [],
   "source": [
    "# Then matching the members\n",
    "def create_user(connector, user):\n",
    "    query = \"\"\"\n",
    "        MERGE (user:User {{id: {}, name:\"{}\", twitter:\"{}\"}})\n",
    "    \"\"\".format(user[\"id\"], user[\"name\"], user[\"twitter\"])\n",
    "    connector.run_query(query)\n",
    "\n",
    "def connect_discourse_user(connector, user_id, discourse_username):\n",
    "    query = \"\"\"\n",
    "        MATCH (user:User {{id: {}}}), (discourseUser:DiscourseUser {{username: \"{}\"}})\n",
    "        MERGE (user) -[edge:isUser]-> (discourseUser)\n",
    "    \"\"\".format(user_id, discourse_username)\n",
    "    connector.run_query(query)\n",
    "\n",
    "def connect_wallet(connector, user_id, address):\n",
    "    query = \"\"\"\n",
    "        MATCH (user:User {{id: {}}}), (wallet:Wallet {{address: \"{}\"}})\n",
    "        MERGE (user) -[edge:isWallet]-> (wallet)\n",
    "    \"\"\".format(user_id, address)\n",
    "    connector.run_query(query)"
   ]
  },
  {
   "cell_type": "code",
   "execution_count": 11,
   "id": "74fc9a03-7d08-4f0d-9780-1bb903617ed0",
   "metadata": {},
   "outputs": [],
   "source": [
    "data = {\n",
    "    \"Xqua\": {\"name\": \"XquaInTheMoon\", \"discourseUsername\": \"Xqua\", \"address\": \"0xF0552F71fDdd72ae6d0F59EfE3fCcFFc39aF21FF\".lower(), \"twitter\": \"@XquaInTheMoon\"},\n",
    "    \"Jovian\": {\"name\": \"Jovian\", \"discourseUsername\": \"steffbrowne\", \"address\": \"0x3a8af31d3cfe775172853528167bb2b5760bf7b9\", \"twitter\": \"@Jovian\"},\n",
    "    \"Amphiboly\": {\"name\": \"Amphiboly\", \"discourseUsername\": \"amphiboly.eth\", \"address\": \"0xc75446a6adaef73269dbdece73536977b2b639e0\", \"twitter\": \"@amphiboly\"},\n",
    "    \"Lemp\": {\"name\": \"Lemp\", \"discourseUsername\": \"lemp.eth\", \"address\": \"0x97b9958facec9acb7adb2bb72a70172cb5a0ea7c\", \"twitter\": \"@lemp\"},\n",
    "    \"Keating\": {\"name\": \"Keating\", \"address\": \"0xb8b8bcb1c9e15a9a2325c90b0803e6d225598245\", \"twitter\": \"@keating\"},\n",
    "    \"FeralChain\": {\"name\": \"FeralChain\", \"address\": \"0x6a55ae1b0bbbc7edbf346360ddc99b9224205f03\", \"twitter\": \"@feralchain\"}\n",
    "}"
   ]
  },
  {
   "cell_type": "code",
   "execution_count": 12,
   "id": "20b548e9-4574-46b3-9142-169527525471",
   "metadata": {},
   "outputs": [],
   "source": [
    "id_i = 1\n",
    "for user in data:\n",
    "    create_user(connector, {\"id\": id_i, \"name\": data[user][\"name\"], \"twitter\": data[user][\"twitter\"]})\n",
    "    if \"address\" in data[user]:\n",
    "        connect_wallet(connector, id_i, data[user][\"address\"])\n",
    "    if \"discourseUsername\" in data[user]:\n",
    "        connect_discourse_user(connector, id_i, data[user][\"discourseUsername\"])\n",
    "    id_i += 1"
   ]
  },
  {
   "cell_type": "markdown",
   "id": "8a414cfa-d82a-4632-a233-518346d0c609",
   "metadata": {},
   "source": [
    "# Let's make a few query examples\n",
    "Here's a few example queries. First I will look for the DAO users, and how many are voting, and the share distribution"
   ]
  },
  {
   "cell_type": "code",
   "execution_count": 86,
   "id": "7157f8f2-e0c2-4265-8318-f5bad6f25f70",
   "metadata": {},
   "outputs": [
    {
     "name": "stdout",
     "output_type": "stream",
     "text": [
      "The DAO has 32 members accross all DAOHaus instances\n"
     ]
    }
   ],
   "source": [
    "#Let's grab the number of members of the DAO\n",
    "query = \"\"\"\n",
    "MATCH (dao:DAO {id:1})<-[isPartOf]-(daohaus:DAOHausDao)<-[isMemberOf]-(members:Wallet)\n",
    "RETURN count(DISTINCT members)\"\"\"\n",
    "result = connector.run_query(query)\n",
    "print(\"The DAO has {} members accross all DAOHaus instances\".format(result[0].value()))"
   ]
  },
  {
   "cell_type": "code",
   "execution_count": 77,
   "id": "d3e1fa38-e5cc-4307-a86f-8c6e1639d00c",
   "metadata": {},
   "outputs": [
    {
     "data": {
      "text/plain": [
       "32"
      ]
     },
     "execution_count": 77,
     "metadata": {},
     "output_type": "execute_result"
    }
   ],
   "source": []
  },
  {
   "cell_type": "code",
   "execution_count": 84,
   "id": "4026fb08-33f5-43d9-b86b-015a9eab9ad0",
   "metadata": {},
   "outputs": [],
   "source": [
    "query = \"MATCH (users:User) RETURN users\"\n",
    "result = connector.run_query(query)"
   ]
  },
  {
   "cell_type": "code",
   "execution_count": 85,
   "id": "936be261-4dea-402b-a212-3bed577f9915",
   "metadata": {},
   "outputs": [
    {
     "data": {
      "text/plain": [
       "[<Record users=<Node id=657364 labels=frozenset({'User'}) properties={'twitter': '@XquaInTheMoon', 'name': 'XquaInTheMoon', 'id': 1}>>,\n",
       " <Record users=<Node id=657365 labels=frozenset({'User'}) properties={'twitter': '@Jovian', 'name': 'Jovian', 'id': 2}>>,\n",
       " <Record users=<Node id=657366 labels=frozenset({'User'}) properties={'twitter': '@amphiboly', 'name': 'Amphiboly', 'id': 3}>>,\n",
       " <Record users=<Node id=657367 labels=frozenset({'User'}) properties={'twitter': '@lemp', 'name': 'Lemp', 'id': 4}>>,\n",
       " <Record users=<Node id=657368 labels=frozenset({'User'}) properties={'twitter': '@keating', 'name': 'Keating', 'id': 5}>>,\n",
       " <Record users=<Node id=657369 labels=frozenset({'User'}) properties={'twitter': '@feralchain', 'name': 'FeralChain', 'id': 6}>>]"
      ]
     },
     "execution_count": 85,
     "metadata": {},
     "output_type": "execute_result"
    }
   ],
   "source": [
    "result"
   ]
  },
  {
   "cell_type": "code",
   "execution_count": null,
   "id": "9d5fe476-f2c4-4ae4-826e-0be9999a9fb1",
   "metadata": {},
   "outputs": [],
   "source": []
  }
 ],
 "metadata": {
  "kernelspec": {
   "display_name": "diamond",
   "language": "python",
   "name": "diamond"
  },
  "language_info": {
   "codemirror_mode": {
    "name": "ipython",
    "version": 3
   },
   "file_extension": ".py",
   "mimetype": "text/x-python",
   "name": "python",
   "nbconvert_exporter": "python",
   "pygments_lexer": "ipython3",
   "version": "3.8.12"
  }
 },
 "nbformat": 4,
 "nbformat_minor": 5
}
